{
 "cells": [
  {
   "cell_type": "markdown",
   "id": "07aafc43",
   "metadata": {},
   "source": [
    "# Combine data"
   ]
  },
  {
   "cell_type": "code",
   "execution_count": 79,
   "id": "7768d3bb",
   "metadata": {},
   "outputs": [
    {
     "name": "stdout",
     "output_type": "stream",
     "text": [
      "Combined 13 files into `combined_df`\n"
     ]
    }
   ],
   "source": [
    "import pandas as pd\n",
    "import os\n",
    "\n",
    "# Directory\n",
    "directory = \"Data\"\n",
    "directory2 = \"partial_match_data\"\n",
    "combined_directory = os.path.join(directory, directory2)\n",
    "os.makedirs(combined_directory, exist_ok=True)\n",
    "\n",
    "# Import and combine\n",
    "dfs = []\n",
    "batch = 0\n",
    "\n",
    "while True:\n",
    "    try:\n",
    "        filepath = os.path.join(combined_directory, f\"match_data_{batch}.csv\")\n",
    "        df = pd.read_csv(filepath)\n",
    "        dfs.append(df)\n",
    "        batch += 1\n",
    "    except FileNotFoundError:\n",
    "        break\n",
    "\n",
    "combined_df = pd.concat(dfs, ignore_index=True)\n",
    "print(f\"Combined {batch} files into `combined_df`\")"
   ]
  },
  {
   "cell_type": "markdown",
   "id": "bb24b71c",
   "metadata": {},
   "source": [
    "# Check data"
   ]
  },
  {
   "cell_type": "code",
   "execution_count": 80,
   "id": "59c77261",
   "metadata": {},
   "outputs": [
    {
     "data": {
      "text/plain": [
       "Index(['date', 'visitor_name', 'visitor_pts', 'home_name', 'home_pts',\n",
       "       'overtime', 'home_win', 'margin_of_victory', 'postseason', 'season',\n",
       "       'league'],\n",
       "      dtype='object')"
      ]
     },
     "execution_count": 80,
     "metadata": {},
     "output_type": "execute_result"
    }
   ],
   "source": [
    "combined_df.columns"
   ]
  },
  {
   "cell_type": "code",
   "execution_count": 81,
   "id": "3499a1c6",
   "metadata": {},
   "outputs": [
    {
     "data": {
      "text/html": [
       "<div>\n",
       "<style scoped>\n",
       "    .dataframe tbody tr th:only-of-type {\n",
       "        vertical-align: middle;\n",
       "    }\n",
       "\n",
       "    .dataframe tbody tr th {\n",
       "        vertical-align: top;\n",
       "    }\n",
       "\n",
       "    .dataframe thead th {\n",
       "        text-align: right;\n",
       "    }\n",
       "</style>\n",
       "<table border=\"1\" class=\"dataframe\">\n",
       "  <thead>\n",
       "    <tr style=\"text-align: right;\">\n",
       "      <th></th>\n",
       "      <th>visitor_pts</th>\n",
       "      <th>home_pts</th>\n",
       "      <th>overtime</th>\n",
       "      <th>margin_of_victory</th>\n",
       "      <th>season</th>\n",
       "    </tr>\n",
       "  </thead>\n",
       "  <tbody>\n",
       "    <tr>\n",
       "      <th>count</th>\n",
       "      <td>75983.000000</td>\n",
       "      <td>75983.000000</td>\n",
       "      <td>75983.000000</td>\n",
       "      <td>75983.000000</td>\n",
       "      <td>75983.000000</td>\n",
       "    </tr>\n",
       "    <tr>\n",
       "      <th>mean</th>\n",
       "      <td>102.210955</td>\n",
       "      <td>105.714094</td>\n",
       "      <td>0.066528</td>\n",
       "      <td>10.943909</td>\n",
       "      <td>1993.651869</td>\n",
       "    </tr>\n",
       "    <tr>\n",
       "      <th>std</th>\n",
       "      <td>14.479939</td>\n",
       "      <td>14.862150</td>\n",
       "      <td>0.292364</td>\n",
       "      <td>8.103389</td>\n",
       "      <td>20.119162</td>\n",
       "    </tr>\n",
       "    <tr>\n",
       "      <th>min</th>\n",
       "      <td>0.000000</td>\n",
       "      <td>2.000000</td>\n",
       "      <td>0.000000</td>\n",
       "      <td>1.000000</td>\n",
       "      <td>1947.000000</td>\n",
       "    </tr>\n",
       "    <tr>\n",
       "      <th>25%</th>\n",
       "      <td>93.000000</td>\n",
       "      <td>96.000000</td>\n",
       "      <td>0.000000</td>\n",
       "      <td>5.000000</td>\n",
       "      <td>1978.000000</td>\n",
       "    </tr>\n",
       "    <tr>\n",
       "      <th>50%</th>\n",
       "      <td>102.000000</td>\n",
       "      <td>106.000000</td>\n",
       "      <td>0.000000</td>\n",
       "      <td>9.000000</td>\n",
       "      <td>1995.000000</td>\n",
       "    </tr>\n",
       "    <tr>\n",
       "      <th>75%</th>\n",
       "      <td>112.000000</td>\n",
       "      <td>116.000000</td>\n",
       "      <td>0.000000</td>\n",
       "      <td>15.000000</td>\n",
       "      <td>2011.000000</td>\n",
       "    </tr>\n",
       "    <tr>\n",
       "      <th>max</th>\n",
       "      <td>186.000000</td>\n",
       "      <td>184.000000</td>\n",
       "      <td>6.000000</td>\n",
       "      <td>73.000000</td>\n",
       "      <td>2025.000000</td>\n",
       "    </tr>\n",
       "  </tbody>\n",
       "</table>\n",
       "</div>"
      ],
      "text/plain": [
       "        visitor_pts      home_pts      overtime  margin_of_victory  \\\n",
       "count  75983.000000  75983.000000  75983.000000       75983.000000   \n",
       "mean     102.210955    105.714094      0.066528          10.943909   \n",
       "std       14.479939     14.862150      0.292364           8.103389   \n",
       "min        0.000000      2.000000      0.000000           1.000000   \n",
       "25%       93.000000     96.000000      0.000000           5.000000   \n",
       "50%      102.000000    106.000000      0.000000           9.000000   \n",
       "75%      112.000000    116.000000      0.000000          15.000000   \n",
       "max      186.000000    184.000000      6.000000          73.000000   \n",
       "\n",
       "             season  \n",
       "count  75983.000000  \n",
       "mean    1993.651869  \n",
       "std       20.119162  \n",
       "min     1947.000000  \n",
       "25%     1978.000000  \n",
       "50%     1995.000000  \n",
       "75%     2011.000000  \n",
       "max     2025.000000  "
      ]
     },
     "execution_count": 81,
     "metadata": {},
     "output_type": "execute_result"
    }
   ],
   "source": [
    "combined_df.describe()"
   ]
  },
  {
   "cell_type": "code",
   "execution_count": 82,
   "id": "5a511fce",
   "metadata": {},
   "outputs": [
    {
     "name": "stdout",
     "output_type": "stream",
     "text": [
      "75983 total matches\n",
      "1134 average number of matches per season (rounded)\n",
      "76 average number of matches per team per season (rounded + if there had always been 30 teams)\n"
     ]
    }
   ],
   "source": [
    "# Note: due to league expansions, changing amount of matches per\n",
    "# season and uncertain length of the playoffs these are all rough estimates\n",
    "\n",
    "total_matches = combined_df.shape[0]\n",
    "print(total_matches, \"total matches\")\n",
    "\n",
    "matches_per_season = total_matches / 67\n",
    "print(round(matches_per_season), \"average number of matches per season (rounded)\")\n",
    "\n",
    "matches_per_team_ps = matches_per_season / 30 * 2\n",
    "print(round(matches_per_team_ps), \"average number of matches per team per season (rounded + if there had always been 30 teams)\")"
   ]
  },
  {
   "cell_type": "code",
   "execution_count": 83,
   "id": "deeefde9",
   "metadata": {},
   "outputs": [
    {
     "name": "stdout",
     "output_type": "stream",
     "text": [
      "Data from: 1946-11-01 - 2025-05-14\n",
      "Equal number of home and visiting teams check: True\n",
      "Number of teams in history: 96\n",
      "Total number of years played: 79\n",
      "Includes regular and post season games: True\n",
      "Postseason in every year: True\n",
      "NBA games played: 70889\n",
      "ABA games played: 4149\n",
      "BAA games played: 945\n"
     ]
    }
   ],
   "source": [
    "#Date\n",
    "print(\"Data from:\", combined_df[\"date\"].min(), '-', combined_df[\"date\"].max())\n",
    "\n",
    "# Team name\n",
    "print(\"Equal number of home and visiting teams check:\", len(combined_df[\"visitor_name\"].unique()) == len(combined_df[\"visitor_name\"].unique()))\n",
    "print(\"Number of teams in history:\", len(combined_df[\"visitor_name\"].unique()))\n",
    "\n",
    "# Season\n",
    "years_played = len(combined_df[\"season\"].unique())\n",
    "print(\"Total number of years played:\", years_played)\n",
    "\n",
    "# Postseason\n",
    "values = combined_df[\"postseason\"].unique()\n",
    "print(\"Includes regular and post season games:\", True in values and False in values)\n",
    "print(\"Postseason in every year:\", len(combined_df[combined_df[\"postseason\"] == True][\"season\"].unique()) == years_played)\n",
    "\n",
    "# Leagues\n",
    "for league in combined_df[\"league\"].unique():\n",
    "    print(league, \"games played:\", combined_df[combined_df[\"league\"] == league].shape[0])"
   ]
  },
  {
   "cell_type": "markdown",
   "id": "bd97067c",
   "metadata": {},
   "source": [
    "# Export combined data"
   ]
  },
  {
   "cell_type": "code",
   "execution_count": 84,
   "id": "a676ce72",
   "metadata": {},
   "outputs": [],
   "source": [
    "directory = \"Data\"\n",
    "filepath = os.path.join(directory, \"match_data.csv\")\n",
    "combined_df.to_csv(filepath, index = False)"
   ]
  }
 ],
 "metadata": {
  "kernelspec": {
   "display_name": "venv",
   "language": "python",
   "name": "python3"
  },
  "language_info": {
   "codemirror_mode": {
    "name": "ipython",
    "version": 3
   },
   "file_extension": ".py",
   "mimetype": "text/x-python",
   "name": "python",
   "nbconvert_exporter": "python",
   "pygments_lexer": "ipython3",
   "version": "3.11.9"
  }
 },
 "nbformat": 4,
 "nbformat_minor": 5
}
