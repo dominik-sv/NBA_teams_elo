{
 "cells": [
  {
   "cell_type": "code",
   "execution_count": 20,
   "id": "2faa7616",
   "metadata": {},
   "outputs": [],
   "source": [
    "import requests\n",
    "from bs4 import BeautifulSoup\n",
    "from bs4.element import Tag\n",
    "from datetime import datetime"
   ]
  },
  {
   "cell_type": "code",
   "execution_count": 2,
   "id": "a5905d9a",
   "metadata": {},
   "outputs": [],
   "source": [
    "url_main = 'https://www.basketball-reference.com/leagues/NBA_2024_games.html'"
   ]
  },
  {
   "cell_type": "code",
   "execution_count": 23,
   "id": "12926bc0",
   "metadata": {},
   "outputs": [
    {
     "name": "stdout",
     "output_type": "stream",
     "text": [
      "{'date': datetime.datetime(2023, 10, 24, 0, 0), 'visitor_name': 'Los Angeles Lakers', 'visitor_pts': 107, 'home_name': 'Denver Nuggets', 'home_pts': '119', 'overtime': 0}\n"
     ]
    }
   ],
   "source": [
    "def parse_data_point(key: str, text: str) -> datetime | int | str:\n",
    "    \"\"\"\n",
    "    Parses match data point based on its key.\n",
    "\n",
    "    Parameters:\n",
    "    key (str): Name of the data point.\n",
    "    text (str): Text content of the data point\n",
    "\n",
    "    Returns:\n",
    "    (datetime): If the key is 'date'.\n",
    "    (int): If the key is 'visitor_pts', 'home_pts' or 'overtime' (representing number of overtimes played).\n",
    "    (string): For all other keys.\n",
    "    \"\"\"\n",
    "\n",
    "    if key == 'date':\n",
    "        return datetime.strptime(text, '%a, %b %d, %Y')\n",
    "    \n",
    "    elif key in ('visitor_pts' or 'home_pts'):\n",
    "        return int(text)\n",
    "    \n",
    "    elif key == 'overtime':\n",
    "        if text is None:\n",
    "            return 0\n",
    "        elif text == 'OT':\n",
    "            return 1\n",
    "        else:\n",
    "            try:\n",
    "                return int(text[:-2])\n",
    "            except ValueError:\n",
    "                return 0\n",
    "            \n",
    "    else:\n",
    "        return text\n",
    "    \n",
    "\n",
    "def get_match_data(trow: Tag) -> dict:\n",
    "    \"\"\"\n",
    "    Extracts NBA match data from a <tr> HTML element.\n",
    "\n",
    "    Parameters:\n",
    "    trow (bs4.element.Tag): A BeautifulSoup <tr> tag representing one row with data points about a single NBA match.\n",
    "\n",
    "    Returns:\n",
    "    dict: A dictionary with the following keys:\n",
    "        - 'date' (datetime): The date of the game.\n",
    "        - 'visitor_name' (str): Name of the visiting team.\n",
    "        - 'visitor_pts' (int): Points scored by the visiting team.\n",
    "        - 'home_name' (str): Name of the home team.\n",
    "        - 'home_pts' (int): Points scored by the home team.\n",
    "        - 'overtime' (int): Number of overtime periods.\n",
    "\n",
    "    Notes:\n",
    "    It relies on an external helper function `parse_data_point(key, text)` to handle value conversion.\n",
    "    \"\"\"\n",
    "\n",
    "    match_data = {}\n",
    "    data_fields = {\n",
    "        'date':        ('th',  'date_game'),\n",
    "        'visitor_name':('td',  'visitor_team_name'),\n",
    "        'visitor_pts': ('td',  'visitor_pts'),\n",
    "        'home_name':   ('td',  'home_team_name'),\n",
    "        'home_pts':    ('td',  'home_pts'),\n",
    "        'overtime':    ('td', 'overtimes')\n",
    "    }\n",
    "\n",
    "    for key, (tag, data_stat) in data_fields.items():\n",
    "        text = trow.find(tag, {'data-stat': data_stat}).text.strip()\n",
    "        data_point = parse_data_point(key, text)\n",
    "        match_data[key] = data_point\n",
    "\n",
    "    return match_data\n",
    "\n",
    "try:\n",
    "    response = requests.get(url_main)\n",
    "    soup = BeautifulSoup(response.text, 'html.parser')\n",
    "    table = soup.find('table', id='schedule')\n",
    "    tbody = table.find('tbody')\n",
    "    for trow in tbody.find_all('tr'):\n",
    "        match_data = get_match_data(trow)\n",
    "        print(match_data)\n",
    "        break\n",
    "\n",
    "except requests.exceptions.ConnectionError:\n",
    "    print('Failed to connect to basketball-reference site')\n",
    "except requests.exceptions.Timeout:\n",
    "    print('The request timed out')\n",
    "except requests.exceptions.RequestException as e:\n",
    "    print(f'An error occured: {e}')"
   ]
  },
  {
   "cell_type": "code",
   "execution_count": null,
   "id": "f27eea78",
   "metadata": {},
   "outputs": [],
   "source": []
  }
 ],
 "metadata": {
  "kernelspec": {
   "display_name": "venv",
   "language": "python",
   "name": "python3"
  },
  "language_info": {
   "codemirror_mode": {
    "name": "ipython",
    "version": 3
   },
   "file_extension": ".py",
   "mimetype": "text/x-python",
   "name": "python",
   "nbconvert_exporter": "python",
   "pygments_lexer": "ipython3",
   "version": "3.11.9"
  }
 },
 "nbformat": 4,
 "nbformat_minor": 5
}
